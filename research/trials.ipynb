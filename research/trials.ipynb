{
 "cells": [
  {
   "cell_type": "markdown",
   "source": [
    "## Import data from Google Drive"
   ],
   "metadata": {
    "collapsed": false
   },
   "id": "6a007734824ae643"
  },
  {
   "cell_type": "code",
   "execution_count": 1,
   "outputs": [],
   "source": [
    "import gdown"
   ],
   "metadata": {
    "collapsed": false,
    "ExecuteTime": {
     "end_time": "2023-11-26T11:29:48.645421507Z",
     "start_time": "2023-11-26T11:29:48.240472543Z"
    }
   },
   "id": "35a73bec3e892740"
  },
  {
   "cell_type": "code",
   "execution_count": 2,
   "outputs": [],
   "source": [
    "url=\"https://drive.google.com/file/d/1vlhZ5c7abUKF8xXERIw6m9Te8fW7ohw3/view?usp=sharing\""
   ],
   "metadata": {
    "collapsed": false,
    "ExecuteTime": {
     "end_time": "2023-11-26T11:30:58.304112897Z",
     "start_time": "2023-11-26T11:30:58.168506370Z"
    }
   },
   "id": "cd1407c43a245548"
  },
  {
   "cell_type": "code",
   "execution_count": 5,
   "outputs": [],
   "source": [
    "file_id=url.split(\"/\")[-2]"
   ],
   "metadata": {
    "collapsed": false,
    "ExecuteTime": {
     "end_time": "2023-11-26T11:33:20.200207393Z",
     "start_time": "2023-11-26T11:33:20.068480071Z"
    }
   },
   "id": "679bd94a75ec65d3"
  },
  {
   "cell_type": "code",
   "execution_count": 6,
   "outputs": [],
   "source": [
    "prefix = 'https://drive.google.com/uc?/export=download&id='"
   ],
   "metadata": {
    "collapsed": false,
    "ExecuteTime": {
     "end_time": "2023-11-26T11:34:16.794787459Z",
     "start_time": "2023-11-26T11:34:16.674517635Z"
    }
   },
   "id": "69afd13f1db30049"
  },
  {
   "cell_type": "code",
   "execution_count": 7,
   "outputs": [
    {
     "name": "stderr",
     "output_type": "stream",
     "text": [
      "Downloading...\n",
      "From (uriginal): https://drive.google.com/uc?/export=download&id=1vlhZ5c7abUKF8xXERIw6m9Te8fW7ohw3\n",
      "From (redirected): https://drive.google.com/uc?/export=download&id=1vlhZ5c7abUKF8xXERIw6m9Te8fW7ohw3&confirm=t&uuid=e113d5a7-fa7d-4ff3-bd61-d7c7cfaa5c3a\n",
      "To: /home/dhanushka/Documents/kidneyDiseaseClassification/research/CT_Scan_kidney.zip\n",
      "100%|██████████| 57.7M/57.7M [04:49<00:00, 199kB/s]\n"
     ]
    },
    {
     "data": {
      "text/plain": "'CT_Scan_kidney.zip'"
     },
     "execution_count": 7,
     "metadata": {},
     "output_type": "execute_result"
    }
   ],
   "source": [
    "gdown.download(prefix+file_id,\"CT_Scan_kidney.zip\")"
   ],
   "metadata": {
    "collapsed": false,
    "ExecuteTime": {
     "end_time": "2023-11-26T11:41:05.218339509Z",
     "start_time": "2023-11-26T11:36:12.350325822Z"
    }
   },
   "id": "e7081684a64754c"
  },
  {
   "cell_type": "code",
   "execution_count": null,
   "outputs": [],
   "source": [],
   "metadata": {
    "collapsed": false
   },
   "id": "6f80847a95d0d67c"
  }
 ],
 "metadata": {
  "kernelspec": {
   "display_name": "Python 3",
   "language": "python",
   "name": "python3"
  },
  "language_info": {
   "codemirror_mode": {
    "name": "ipython",
    "version": 2
   },
   "file_extension": ".py",
   "mimetype": "text/x-python",
   "name": "python",
   "nbconvert_exporter": "python",
   "pygments_lexer": "ipython2",
   "version": "2.7.6"
  }
 },
 "nbformat": 4,
 "nbformat_minor": 5
}
